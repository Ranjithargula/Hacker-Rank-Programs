{
 "cells": [
  {
   "cell_type": "code",
   "execution_count": 36,
   "metadata": {},
   "outputs": [
    {
     "name": "stdout",
     "output_type": "stream",
     "text": [
      "20\n",
      "10 40 30 50 20 10 40 30 50 20 1 2 3 4 5 6 7 8 9 10\n",
      "1 2 3 4 5 6 7 8 9 10 10 40 30 50 20 10 40 30 50 20\n"
     ]
    }
   ],
   "source": [
    "from statistics import median\n",
    "n=int(input())\n",
    "X=list(map(int,input(\"\").split(\" \")))\n",
    "F=list(map(int,input(\"\").split(\" \")))\n",
    "L=[]\n",
    "for i in range(n):\n",
    "    for j in range(F[i]):\n",
    "        L.append(X[i])\n"
   ]
  },
  {
   "cell_type": "code",
   "execution_count": 51,
   "metadata": {},
   "outputs": [
    {
     "name": "stdout",
     "output_type": "stream",
     "text": [
      "5.0\n"
     ]
    }
   ],
   "source": [
    "L.sort()\n",
    "l1=[]\n",
    "l2=[]\n",
    "l=len(L)\n",
    "q2=median(L)\n",
    "if l%2!=0:\n",
    "    I=l//2\n",
    "    for i in range(0,I):\n",
    "        l1.append(L[i])\n",
    "    for i in range(I+1,len(L)):\n",
    "        l2.append(L[i])\n",
    "else:\n",
    "    I=l//2\n",
    "    for i in range(0,I):\n",
    "        l1.append(L[i])\n",
    "    for i in range(I+1,l):\n",
    "        l2.append(L[i])\n",
    "q1=median(l1)\n",
    "q3=median(l2)\n",
    "print(round(float(q3-q1),1))\n"
   ]
  }
 ],
 "metadata": {
  "kernelspec": {
   "display_name": "Python 3",
   "language": "python",
   "name": "python3"
  },
  "language_info": {
   "codemirror_mode": {
    "name": "ipython",
    "version": 3
   },
   "file_extension": ".py",
   "mimetype": "text/x-python",
   "name": "python",
   "nbconvert_exporter": "python",
   "pygments_lexer": "ipython3",
   "version": "3.7.3"
  }
 },
 "nbformat": 4,
 "nbformat_minor": 2
}
