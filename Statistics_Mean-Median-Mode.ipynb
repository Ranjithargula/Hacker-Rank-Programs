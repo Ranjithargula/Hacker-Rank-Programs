{
 "cells": [
  {
   "cell_type": "code",
   "execution_count": 1,
   "metadata": {},
   "outputs": [
    {
     "name": "stdout",
     "output_type": "stream",
     "text": [
      "10\n",
      "12 6 58 20 520 448 58 6 58 6\n",
      "119.2\n",
      "39.0\n",
      "6\n"
     ]
    }
   ],
   "source": [
    "import numpy as np\n",
    "n=int(input())\n",
    "l=list(map(int,input(\"\").split(\" \")))\n",
    "print(np.mean(l))\n",
    "print(np.median(l))\n",
    "from collections import Counter\n",
    "c=Counter(l)\n",
    "c=dict(c)\n",
    "k=max(l)\n",
    "m=max(c.values())\n",
    "for i in c:\n",
    "    if c[i]==m and i<=k:\n",
    "        k=i\n",
    "print(k)"
   ]
  },
  {
   "cell_type": "code",
   "execution_count": null,
   "metadata": {},
   "outputs": [],
   "source": []
  }
 ],
 "metadata": {
  "kernelspec": {
   "display_name": "Python 3",
   "language": "python",
   "name": "python3"
  },
  "language_info": {
   "codemirror_mode": {
    "name": "ipython",
    "version": 3
   },
   "file_extension": ".py",
   "mimetype": "text/x-python",
   "name": "python",
   "nbconvert_exporter": "python",
   "pygments_lexer": "ipython3",
   "version": "3.7.3"
  }
 },
 "nbformat": 4,
 "nbformat_minor": 2
}
