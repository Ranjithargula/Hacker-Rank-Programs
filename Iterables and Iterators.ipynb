{
 "cells": [
  {
   "cell_type": "code",
   "execution_count": 3,
   "metadata": {},
   "outputs": [
    {
     "name": "stdout",
     "output_type": "stream",
     "text": [
      "4\n",
      "a a b d\n",
      "2\n",
      "0.833\n"
     ]
    }
   ],
   "source": [
    "import itertools\n",
    "n=int(input())\n",
    "l=input().split()\n",
    "k=int(input())\n",
    "C=list(itertools.permutations(sorted(l),k))\n",
    "count=0\n",
    "for i in C:\n",
    "    if 'a' in i:\n",
    "        count+=1\n",
    "print(\"{:.3f}\".format(count/len(C)))"
   ]
  },
  {
   "cell_type": "code",
   "execution_count": 12,
   "metadata": {},
   "outputs": [
    {
     "name": "stdout",
     "output_type": "stream",
     "text": [
      "4\n",
      "a a b d\n",
      "2\n",
      "0.833\n"
     ]
    }
   ],
   "source": [
    "import itertools\n",
    "n=int(input())\n",
    "l=input().split()\n",
    "k=int(input())\n",
    "C=list(itertools.combinations(sorted(l),k))\n",
    "def fil(i):\n",
    "    if 'a' in i:\n",
    "        return i\n",
    "x=filter(fil,C)\n",
    "print(\"{:.3f}\".format(len(list(x))/len(C)))       "
   ]
  }
 ],
 "metadata": {
  "kernelspec": {
   "display_name": "Python 3",
   "language": "python",
   "name": "python3"
  },
  "language_info": {
   "codemirror_mode": {
    "name": "ipython",
    "version": 3
   },
   "file_extension": ".py",
   "mimetype": "text/x-python",
   "name": "python",
   "nbconvert_exporter": "python",
   "pygments_lexer": "ipython3",
   "version": "3.7.3"
  }
 },
 "nbformat": 4,
 "nbformat_minor": 2
}
