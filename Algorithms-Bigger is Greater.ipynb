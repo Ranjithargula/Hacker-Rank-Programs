{
 "cells": [
  {
   "cell_type": "code",
   "execution_count": 46,
   "metadata": {},
   "outputs": [
    {
     "name": "stdout",
     "output_type": "stream",
     "text": [
      "hcdk\n"
     ]
    }
   ],
   "source": [
    "w='dkhc'\n",
    "st=''\n",
    "a=sorted(w)\n",
    "from itertools import permutations\n",
    "W=permutations(a,len(w))\n",
    "L=list(W)\n",
    "x=L.index(tuple(w))+1\n",
    "if len(L)>=x:\n",
    "    for i in list(L[x]):\n",
    "        st+=i\n",
    "    print(st)\n",
    "else:\n",
    "    print(\"no answer\")"
   ]
  },
  {
   "cell_type": "code",
   "execution_count": 84,
   "metadata": {},
   "outputs": [
    {
     "ename": "SyntaxError",
     "evalue": "'return' outside function (<ipython-input-84-6201191215aa>, line 8)",
     "output_type": "error",
     "traceback": [
      "\u001b[1;36m  File \u001b[1;32m\"<ipython-input-84-6201191215aa>\"\u001b[1;36m, line \u001b[1;32m8\u001b[0m\n\u001b[1;33m    return \"\".join(lis[:i+1]+lis[i+1:][::-1])\u001b[0m\n\u001b[1;37m    ^\u001b[0m\n\u001b[1;31mSyntaxError\u001b[0m\u001b[1;31m:\u001b[0m 'return' outside function\n"
     ]
    }
   ],
   "source": [
    "s='dkhc'\n",
    "for i in range(len(s)-1)[::-1]:\n",
    "    if s[i] < s[i+1]:\n",
    "        for j in range(i+1,len(s))[::-1]:\n",
    "            if s[i] < s[j]:\n",
    "                lis = list(s) \n",
    "                lis[i],lis[j]=lis[j],lis[i]\n",
    "                return \"\".join(lis[:i+1]+lis[i+1:][::-1])\n",
    "return 'no answer'"
   ]
  },
  {
   "cell_type": "code",
   "execution_count": 82,
   "metadata": {},
   "outputs": [],
   "source": [
    "import math\n",
    "def biggerIsGreater(w):\n",
    "    st=\"\"\n",
    "    a=sorted(w)\n",
    "    from itertools import permutations\n",
    "    W=permutations(a,len(w))\n",
    "    for i in range(math.factorial(len(a))):\n",
    "        x=next(W)\n",
    "        if x==tuple(w):\n",
    "            st=\"\".join(next(W))\n",
    "            if st!=\"\" and st!=w and tuple(st) in list(W):\n",
    "                return st\n",
    "            return 'no answer'\n",
    "    return 'no answer'"
   ]
  },
  {
   "cell_type": "code",
   "execution_count": 83,
   "metadata": {},
   "outputs": [
    {
     "data": {
      "text/plain": [
       "'no answer'"
      ]
     },
     "execution_count": 83,
     "metadata": {},
     "output_type": "execute_result"
    }
   ],
   "source": [
    "biggerIsGreater('bb')"
   ]
  },
  {
   "cell_type": "code",
   "execution_count": null,
   "metadata": {},
   "outputs": [],
   "source": [
    "#!/bin/python3\n",
    "\n",
    "import math\n",
    "import os\n",
    "import random\n",
    "import re\n",
    "import sys\n",
    "\n",
    "# Complete the biggerIsGreater function below.\n",
    "def biggerIsGreater(w):\n",
    "    st=\"\"\n",
    "    a=sorted(w)\n",
    "    from itertools import permutations\n",
    "    W=permutations(a,len(w))\n",
    "    L=list(W)\n",
    "    x=L.index(tuple(w))\n",
    "    if x==len(L)-1:\n",
    "        return 'no answer'\n",
    "    else:\n",
    "        st=\"\".join(L[x+1])\n",
    "        if st!=w:\n",
    "            return st\n",
    "        return \"no answer\"\n",
    "if __name__ == '__main__':\n",
    "    fptr = open(os.environ['OUTPUT_PATH'], 'w')\n",
    "\n",
    "    T = int(input())\n",
    "\n",
    "    for T_itr in range(T):\n",
    "        w = input()\n",
    "\n",
    "        result = biggerIsGreater(w)\n",
    "\n",
    "        fptr.write(result + '\\n')\n",
    "\n",
    "    fptr.close()\n"
   ]
  }
 ],
 "metadata": {
  "kernelspec": {
   "display_name": "Python 3",
   "language": "python",
   "name": "python3"
  },
  "language_info": {
   "codemirror_mode": {
    "name": "ipython",
    "version": 3
   },
   "file_extension": ".py",
   "mimetype": "text/x-python",
   "name": "python",
   "nbconvert_exporter": "python",
   "pygments_lexer": "ipython3",
   "version": "3.7.3"
  }
 },
 "nbformat": 4,
 "nbformat_minor": 2
}
