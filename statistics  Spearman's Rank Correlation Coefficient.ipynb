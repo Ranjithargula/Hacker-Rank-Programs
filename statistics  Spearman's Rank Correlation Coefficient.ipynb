{
 "cells": [
  {
   "cell_type": "code",
   "execution_count": 15,
   "metadata": {},
   "outputs": [
    {
     "name": "stdout",
     "output_type": "stream",
     "text": [
      "10\n",
      "10 9.8 8 7.8 7.7 1.7 6 5 1.4 2 \n",
      "200 44 32 24 22 17 15 12 8 4\n",
      "0.903\n"
     ]
    }
   ],
   "source": [
    "import statistics as sts\n",
    "n=int(input())\n",
    "L1=list(map(float,input().split()))\n",
    "L2=list(map(float,input().split()))\n",
    "def rank_simple(vector):\n",
    "    return sorted(range(len(vector)), key=vector.__getitem__)\n",
    "P=[i+1 for i in rank_simple(L1)]\n",
    "Q=[i+1 for i in rank_simple(L2)]\n",
    "mean1=sts.mean(P)\n",
    "mean2=sts.mean(Q)\n",
    "std1=sts.pstdev(P)\n",
    "std2=sts.pstdev(Q)\n",
    "if L1!=list(set(L1)) or L2!=list(set(L2)):\n",
    "    cdf=lambda x,y:((x-mean1)*(y-mean2))\n",
    "    s=0\n",
    "    for x,y in zip(P,Q):\n",
    "        s+=cdf(x,y)\n",
    "    print('{:.3f}'.format(s/(n*std1*std2)))\n",
    "else:\n",
    "    d2=lambda x,y:(x-y)**2 \n",
    "    s=0\n",
    "    for x,y in zip(P,Q):\n",
    "        s+=d2(x,y)\n",
    "    print('{:.3f}'.format(1-(6*s/(n*((n**2)-1)))))\n",
    "    "
   ]
  },
  {
   "cell_type": "code",
   "execution_count": 24,
   "metadata": {},
   "outputs": [
    {
     "name": "stdout",
     "output_type": "stream",
     "text": [
      "10\n",
      "10 9.8 8 7.8 7.7 1.7 6 5 1.4 2 \n",
      "200 44 32 24 22 17 15 12 8 4\n",
      "0.903\n"
     ]
    }
   ],
   "source": [
    "import statistics as sts\n",
    "n=int(input())\n",
    "L1=list(map(float,input().split()))\n",
    "L2=list(map(float,input().split()))\n",
    "def rank_simple(x):\n",
    "    seq = sorted(x)\n",
    "    index = [seq.index(v) for v in x]\n",
    "    return index\n",
    "P=[i+1 for i in rank_simple(L1)]\n",
    "Q=[i+1 for i in rank_simple(L2)]\n",
    "mean1=sts.mean(P)\n",
    "mean2=sts.mean(Q)\n",
    "std1=sts.pstdev(P)\n",
    "std2=sts.pstdev(Q)\n",
    "d2=lambda x,y:(x-y)**2 \n",
    "s=0\n",
    "for x,y in zip(P,Q):\n",
    "    s+=d2(x,y)\n",
    "print('{:.3f}'.format(1-(6*s/(n*((n**2)-1)))))\n"
   ]
  }
 ],
 "metadata": {
  "kernelspec": {
   "display_name": "Python 3",
   "language": "python",
   "name": "python3"
  },
  "language_info": {
   "codemirror_mode": {
    "name": "ipython",
    "version": 3
   },
   "file_extension": ".py",
   "mimetype": "text/x-python",
   "name": "python",
   "nbconvert_exporter": "python",
   "pygments_lexer": "ipython3",
   "version": "3.7.3"
  }
 },
 "nbformat": 4,
 "nbformat_minor": 2
}
