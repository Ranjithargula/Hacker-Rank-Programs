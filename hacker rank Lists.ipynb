{
 "cells": [
  {
   "cell_type": "code",
   "execution_count": 1,
   "metadata": {},
   "outputs": [
    {
     "name": "stdout",
     "output_type": "stream",
     "text": [
      "12\n",
      "insert 0 5\n",
      "insert 1 10\n",
      "insert 0 6\n",
      "print\n",
      "[6, 5, 10]\n",
      "remove 6\n",
      "append 9\n",
      "append 1\n",
      "sort\n",
      "print\n",
      "[1, 5, 9, 10]\n",
      "pop\n",
      "reverse\n",
      "print\n",
      "[9, 5, 1]\n"
     ]
    }
   ],
   "source": [
    "if __name__ == '__main__':\n",
    "    N = int(input())\n",
    "    l=[]\n",
    "for i in range(N):\n",
    "    comand=input()\n",
    "    L=comand.split(' ')\n",
    "    if L[0]==\"insert\":\n",
    "        index=int(L[1])\n",
    "        number=int(L[2])\n",
    "        l.insert(index,number)\n",
    "    elif L[0]=='remove':\n",
    "        number=int(L[1])\n",
    "        l.remove(number)\n",
    "    elif L[0]=='append':\n",
    "        number=int(L[1])\n",
    "        l.append(number)\n",
    "    elif L[0]=='sort':\n",
    "        l.sort()\n",
    "    elif L[0]=='pop':\n",
    "        l.pop()\n",
    "    elif L[0]=='reverse':\n",
    "        l.reverse()\n",
    "    elif L[0]=='print':\n",
    "        print(l)\n",
    "    else :\n",
    "        pass\n"
   ]
  }
 ],
 "metadata": {
  "kernelspec": {
   "display_name": "Python 3",
   "language": "python",
   "name": "python3"
  },
  "language_info": {
   "codemirror_mode": {
    "name": "ipython",
    "version": 3
   },
   "file_extension": ".py",
   "mimetype": "text/x-python",
   "name": "python",
   "nbconvert_exporter": "python",
   "pygments_lexer": "ipython3",
   "version": "3.7.3"
  }
 },
 "nbformat": 4,
 "nbformat_minor": 2
}
