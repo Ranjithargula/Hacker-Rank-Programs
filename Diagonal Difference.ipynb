{
 "cells": [
  {
   "cell_type": "code",
   "execution_count": 1,
   "metadata": {},
   "outputs": [
    {
     "name": "stdout",
     "output_type": "stream",
     "text": [
      "3\n",
      "4 5 6\n",
      "1 2 3\n",
      "7 8 9\n",
      "0\n"
     ]
    }
   ],
   "source": [
    "def diagonalDifference(arr):\n",
    "    sum1,sum2=0,0\n",
    "    for i in range(len(arr)):\n",
    "        for j in range(len(arr)) :\n",
    "            if i==j:\n",
    "                sum1+=arr[i][j]\n",
    "    i=len(arr)-1\n",
    "    j=0\n",
    "    while(i>=0 and j < len(arr)):\n",
    "        sum2+=arr[i][j]\n",
    "        i-=1\n",
    "        j+=1\n",
    "    diagdiff=abs(sum1-sum2)\n",
    "    return diagdiff\n",
    "if __name__ == '__main__':\n",
    "\n",
    "    n = int(input().strip())                                     #size of array\n",
    "\n",
    "    arr = []\n",
    "\n",
    "    for _ in range(n):\n",
    "        arr.append(list(map(int, input().rstrip().split())))      #array input\n",
    "\n",
    "    result = diagonalDifference(arr)\n",
    "    print(result)\n"
   ]
  }
 ],
 "metadata": {
  "kernelspec": {
   "display_name": "Python 3",
   "language": "python",
   "name": "python3"
  },
  "language_info": {
   "codemirror_mode": {
    "name": "ipython",
    "version": 3
   },
   "file_extension": ".py",
   "mimetype": "text/x-python",
   "name": "python",
   "nbconvert_exporter": "python",
   "pygments_lexer": "ipython3",
   "version": "3.7.3"
  }
 },
 "nbformat": 4,
 "nbformat_minor": 2
}
