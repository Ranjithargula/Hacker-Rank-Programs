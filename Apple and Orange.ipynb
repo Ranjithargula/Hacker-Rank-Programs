{
 "cells": [
  {
   "cell_type": "code",
   "execution_count": 7,
   "metadata": {},
   "outputs": [
    {
     "name": "stdout",
     "output_type": "stream",
     "text": [
      "7 11\n",
      "5 15\n",
      "3 2\n",
      "-2 2 1\n",
      "5 -6\n",
      "1\n",
      "1\n",
      "Wall time: 26 s\n"
     ]
    }
   ],
   "source": [
    "%%time\n",
    "# import math\n",
    "# import os\n",
    "# import random\n",
    "# import re\n",
    "# import sys\n",
    "\n",
    "# Complete the countApplesAndOranges function below.\n",
    "def countApplesAndOranges(s, t, a, b, apples, oranges):\n",
    "    S=[i for i in range(s,t+1)]\n",
    "    ap,ora=0,0\n",
    "    for i,j in zip(apples,oranges):\n",
    "        if i+a in S:\n",
    "            ap+=1\n",
    "        if j+b in S:\n",
    "            ora+=1\n",
    "    print('{:}\\n{:}'.format(ap,ora))     \n",
    "if __name__ == '__main__':\n",
    "    s,t = list(map(int,input().split()))\n",
    "    a,b = list(map(int,input().split()))\n",
    "    m,n = list(map(int,input().split()))\n",
    "    apples = list(map(int,input().split()))\n",
    "    oranges = list(map(int,input().split()))\n",
    "    countApplesAndOranges(s, t, a, b, apples, oranges)"
   ]
  },
  {
   "cell_type": "code",
   "execution_count": 12,
   "metadata": {},
   "outputs": [
    {
     "name": "stdout",
     "output_type": "stream",
     "text": [
      "Wall time: 0 ns\n"
     ]
    }
   ],
   "source": [
    "%%time\n",
    "# 7 11\n",
    "# 5 15\n",
    "# 3 2\n",
    "# -2 2 1\n",
    "# 5 -6\n",
    "oranges=[5,-6]\n",
    "s,t=7,11\n",
    "ora=0"
   ]
  },
  {
   "cell_type": "code",
   "execution_count": 13,
   "metadata": {},
   "outputs": [],
   "source": [
    "for j in oranges:\n",
    "        if abs(j+b) in range(s,t+1):\n",
    "            ora+=1\n",
    "    "
   ]
  },
  {
   "cell_type": "code",
   "execution_count": 14,
   "metadata": {},
   "outputs": [
    {
     "data": {
      "text/plain": [
       "1"
      ]
     },
     "execution_count": 14,
     "metadata": {},
     "output_type": "execute_result"
    }
   ],
   "source": [
    "ora"
   ]
  },
  {
   "cell_type": "code",
   "execution_count": 15,
   "metadata": {},
   "outputs": [
    {
     "name": "stdout",
     "output_type": "stream",
     "text": [
      "7 11\n",
      "5 15\n",
      "3 2\n",
      "-2 2 1\n",
      "5 -6\n",
      "[-2, 2, 1] [5, -6] 5 15\n",
      "[3, 7, 6] [20, 9]\n",
      "1\n",
      "1\n"
     ]
    }
   ],
   "source": [
    "def countApplesAndOranges(s, t, a, b, apples, oranges):\n",
    "    ap,ora=0,0\n",
    "#     print(apples,oranges,a,b)\n",
    "    apd=[];od=[]\n",
    "    for i in list(apples):\n",
    "        apd.append(abs(i+a))\n",
    "    for j in list(oranges):\n",
    "        od.append(abs(j+b))\n",
    "#     print(apd,od)\n",
    "    for i in od:\n",
    "        if i in range(s,t+1):\n",
    "                ora+=1\n",
    "    for i in apd:\n",
    "        if i in range(s,t+1):\n",
    "                ap+=1\n",
    "    print(ap)\n",
    "    print(ora)    \n",
    "if __name__ == '__main__':\n",
    "    s,t = list(map(int,input().split()))\n",
    "    a,b = list(map(int,input().split()))\n",
    "    m,n = list(map(int,input().split()))\n",
    "    apples = list(map(int,input().split()))\n",
    "    oranges = list(map(int,input().split()))\n",
    "    countApplesAndOranges(s, t, a, b, apples, oranges)"
   ]
  },
  {
   "cell_type": "code",
   "execution_count": null,
   "metadata": {},
   "outputs": [],
   "source": []
  }
 ],
 "metadata": {
  "kernelspec": {
   "display_name": "Python 3",
   "language": "python",
   "name": "python3"
  },
  "language_info": {
   "codemirror_mode": {
    "name": "ipython",
    "version": 3
   },
   "file_extension": ".py",
   "mimetype": "text/x-python",
   "name": "python",
   "nbconvert_exporter": "python",
   "pygments_lexer": "ipython3",
   "version": "3.7.3"
  }
 },
 "nbformat": 4,
 "nbformat_minor": 2
}
