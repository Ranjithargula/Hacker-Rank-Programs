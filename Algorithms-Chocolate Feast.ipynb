{
 "cells": [
  {
   "cell_type": "code",
   "execution_count": 6,
   "metadata": {},
   "outputs": [
    {
     "name": "stdout",
     "output_type": "stream",
     "text": [
      "3\n",
      "10 2 5\n",
      "6\n",
      "12 4 4\n",
      "3\n",
      "6 2 2\n",
      "5\n"
     ]
    }
   ],
   "source": [
    "#!/bin/python3\n",
    "\n",
    "import math\n",
    "import os\n",
    "import random\n",
    "import re\n",
    "import sys\n",
    "\n",
    "# Complete the chocolateFeast function below.\n",
    "def chocolateFeast(n, c, m):\n",
    "    C_count=n//c\n",
    "    w_count=C_count\n",
    "    while w_count>=m:\n",
    "        C_count+=1\n",
    "        w_count=w_count-m\n",
    "        w_count+=1\n",
    "    return C_count\n",
    "\n",
    "if __name__ == '__main__':\n",
    "#     fptr = open(os.environ['OUTPUT_PATH'], 'w')\n",
    "\n",
    "    t = int(input())\n",
    "\n",
    "    for t_itr in range(t):\n",
    "        ncm = input().split()\n",
    "\n",
    "        n = int(ncm[0])\n",
    "\n",
    "        c = int(ncm[1])\n",
    "\n",
    "        m = int(ncm[2])\n",
    "\n",
    "        result = chocolateFeast(n, c, m)\n",
    "        print(result)\n",
    "\n",
    "#         fptr.write(str(result) + '\\n')\n",
    "\n",
    "#     fptr.close()\n"
   ]
  }
 ],
 "metadata": {
  "kernelspec": {
   "display_name": "Python 3",
   "language": "python",
   "name": "python3"
  },
  "language_info": {
   "codemirror_mode": {
    "name": "ipython",
    "version": 3
   },
   "file_extension": ".py",
   "mimetype": "text/x-python",
   "name": "python",
   "nbconvert_exporter": "python",
   "pygments_lexer": "ipython3",
   "version": "3.7.3"
  }
 },
 "nbformat": 4,
 "nbformat_minor": 2
}
