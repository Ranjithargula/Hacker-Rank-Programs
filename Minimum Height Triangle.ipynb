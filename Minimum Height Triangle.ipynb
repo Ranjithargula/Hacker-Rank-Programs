{
 "cells": [
  {
   "cell_type": "code",
   "execution_count": 1,
   "metadata": {},
   "outputs": [
    {
     "name": "stdout",
     "output_type": "stream",
     "text": [
      "17 100\n",
      "12\n"
     ]
    }
   ],
   "source": [
    "#!/bin/python3\n",
    "\n",
    "import sys\n",
    "\n",
    "def lowestTriangle(base, area):\n",
    "    if ((2*area)/base)==int((2*area)/base):\n",
    "        return int((2*area)/base)\n",
    "    else:\n",
    "        return int((2*area)/base)+1\n",
    "\n",
    "base, area = input().strip().split(' ')\n",
    "base, area = [int(base), int(area)]\n",
    "height = lowestTriangle(base, area)\n",
    "print(height)\n",
    "\n"
   ]
  }
 ],
 "metadata": {
  "kernelspec": {
   "display_name": "Python 3",
   "language": "python",
   "name": "python3"
  },
  "language_info": {
   "codemirror_mode": {
    "name": "ipython",
    "version": 3
   },
   "file_extension": ".py",
   "mimetype": "text/x-python",
   "name": "python",
   "nbconvert_exporter": "python",
   "pygments_lexer": "ipython3",
   "version": "3.7.3"
  }
 },
 "nbformat": 4,
 "nbformat_minor": 2
}
