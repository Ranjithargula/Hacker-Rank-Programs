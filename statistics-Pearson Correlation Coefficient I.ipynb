{
 "cells": [
  {
   "cell_type": "code",
   "execution_count": 16,
   "metadata": {},
   "outputs": [
    {
     "name": "stdout",
     "output_type": "stream",
     "text": [
      "10\n",
      "10 9.8 8 7.8 7.7 7 6 5 4 2 \n",
      "200 44 32 24 22 17 15 12 8 4\n",
      "0.612\n"
     ]
    }
   ],
   "source": [
    "import statistics as sts\n",
    "n=int(input())\n",
    "L1=list(map(float,input().split()))\n",
    "L2=list(map(float,input().split()))\n",
    "mean1=sts.mean(L1)\n",
    "mean2=sts.mean(L2)\n",
    "std1=sts.pstdev(L1)\n",
    "std2=sts.pstdev(L2)\n",
    "cdf=lambda x,y:((x-mean1)*(y-mean2))\n",
    "s=0\n",
    "for x,y in zip(L1,L2):\n",
    "    s+=cdf(x,y)\n",
    "print('{:.3f}'.format(s/(n*std1*std2)))"
   ]
  }
 ],
 "metadata": {
  "kernelspec": {
   "display_name": "Python 3",
   "language": "python",
   "name": "python3"
  },
  "language_info": {
   "codemirror_mode": {
    "name": "ipython",
    "version": 3
   },
   "file_extension": ".py",
   "mimetype": "text/x-python",
   "name": "python",
   "nbconvert_exporter": "python",
   "pygments_lexer": "ipython3",
   "version": "3.7.3"
  }
 },
 "nbformat": 4,
 "nbformat_minor": 2
}
