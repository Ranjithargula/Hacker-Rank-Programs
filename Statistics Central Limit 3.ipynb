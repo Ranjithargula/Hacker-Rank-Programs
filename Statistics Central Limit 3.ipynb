{
 "cells": [
  {
   "cell_type": "code",
   "execution_count": 4,
   "metadata": {},
   "outputs": [
    {
     "name": "stdout",
     "output_type": "stream",
     "text": [
      "100\n",
      "500\n",
      "80\n",
      ".95\n",
      "1.96\n",
      "484.32\n",
      "515.68\n"
     ]
    }
   ],
   "source": [
    "import math\n",
    "n=int(input())\n",
    "mu=float(input())\n",
    "sigma=float(input())\n",
    "P=float(input())\n",
    "m=mu\n",
    "s=sigma/math.sqrt(n)\n",
    "z=float(input())\n",
    "print(round(m-(z*s),2))\n",
    "print(round(m+(z*s),2))\n",
    "# 100\n",
    "# 500\n",
    "# 80\n",
    "# .95\n",
    "# 1.96"
   ]
  },
  {
   "cell_type": "code",
   "execution_count": null,
   "metadata": {},
   "outputs": [],
   "source": []
  }
 ],
 "metadata": {
  "kernelspec": {
   "display_name": "Python 3",
   "language": "python",
   "name": "python3"
  },
  "language_info": {
   "codemirror_mode": {
    "name": "ipython",
    "version": 3
   },
   "file_extension": ".py",
   "mimetype": "text/x-python",
   "name": "python",
   "nbconvert_exporter": "python",
   "pygments_lexer": "ipython3",
   "version": "3.7.3"
  }
 },
 "nbformat": 4,
 "nbformat_minor": 2
}
