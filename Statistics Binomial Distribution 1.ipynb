{
 "cells": [
  {
   "cell_type": "code",
   "execution_count": 1,
   "metadata": {},
   "outputs": [
    {
     "name": "stdout",
     "output_type": "stream",
     "text": [
      "1.09 1\n",
      "0.696\n"
     ]
    }
   ],
   "source": [
    "import math\n",
    "def fact(n):\n",
    "    return math.factorial(n)\n",
    "r=list(map(float,input().split(\" \")))\n",
    "a,b=r\n",
    "c=a+b\n",
    "p=b/c\n",
    "q=a/c\n",
    "P=(fact(6)/(fact(3)*fact(3)))*(p**3)*(q**3)+(fact(6)/(fact(4)*2))*(p**2)*(q**4)+6*p*(q)**5+1*1*q**6\n",
    "print(round(P,3))"
   ]
  }
 ],
 "metadata": {
  "kernelspec": {
   "display_name": "Python 3",
   "language": "python",
   "name": "python3"
  },
  "language_info": {
   "codemirror_mode": {
    "name": "ipython",
    "version": 3
   },
   "file_extension": ".py",
   "mimetype": "text/x-python",
   "name": "python",
   "nbconvert_exporter": "python",
   "pygments_lexer": "ipython3",
   "version": "3.7.3"
  }
 },
 "nbformat": 4,
 "nbformat_minor": 2
}
