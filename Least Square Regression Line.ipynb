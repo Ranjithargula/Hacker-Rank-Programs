{
 "cells": [
  {
   "cell_type": "code",
   "execution_count": 25,
   "metadata": {},
   "outputs": [
    {
     "name": "stdout",
     "output_type": "stream",
     "text": [
      "95 85\n",
      "85 95\n",
      "80 70\n",
      "70 65\n",
      "60 70\n",
      "78.288\n"
     ]
    }
   ],
   "source": [
    "import statistics as sts\n",
    "import numpy as np\n",
    "from sklearn.linear_model import LinearRegression\n",
    "m=[]\n",
    "s=[]\n",
    "for i in range(5):\n",
    "    x=list(map(float,input().split()))\n",
    "    m.append(x[0])\n",
    "    s.append(x[1])\n",
    "m=(np.array(m)).reshape(-1,1)\n",
    "s=(np.array(s)).reshape(-1,1)\n",
    "model=LinearRegression()\n",
    "model.fit(m,s)\n",
    "y=model.predict([[80]])\n",
    "print('{:.3f}'.format(y[0][0]))"
   ]
  },
  {
   "cell_type": "code",
   "execution_count": 24,
   "metadata": {},
   "outputs": [
    {
     "name": "stdout",
     "output_type": "stream",
     "text": [
      "95 85\n",
      "85 95\n",
      "80 70\n",
      "70 65\n",
      "60 70\n",
      "78.288\n"
     ]
    }
   ],
   "source": [
    "from sklearn import linear_model\n",
    "import numpy as np\n",
    "m=[]\n",
    "s=[]\n",
    "for i in range(5):\n",
    "    x=list(map(float,input().split()))\n",
    "    m.append(x[0])\n",
    "    s.append(x[1])\n",
    "x = np.asarray(m).reshape(-1, 1)\n",
    "y = np.asarray(s).reshape(-1,1)\n",
    "lm = linear_model.LinearRegression()\n",
    "lm.fit(x, y)\n",
    "inter=lm.intercept_\n",
    "co=lm.coef_[0]\n",
    "ypred=co*80+inter\n",
    "print('{:.3f}'.format(ypred[0]))"
   ]
  },
  {
   "cell_type": "code",
   "execution_count": 23,
   "metadata": {},
   "outputs": [
    {
     "name": "stdout",
     "output_type": "stream",
     "text": [
      "95 85\n",
      "85 95\n",
      "80 70\n",
      "70 65\n",
      "60 70\n",
      "78.288\n"
     ]
    }
   ],
   "source": [
    "from statistics import mean, pstdev\n",
    "\n",
    "\n",
    "def pearson(x, y):\n",
    "    mx, sx, my, sy = mean(x), pstdev(x), mean(y), pstdev(y)\n",
    "    return sum((xi - mx) * (yi - my) for xi, yi in zip(x, y)) / (len(x) * sx * sy)\n",
    "\n",
    "\n",
    "def linear_regression(x, y):\n",
    "    b = pearson(x, y) * pstdev(y) / pstdev(x)\n",
    "    return mean(y) - b * mean(x), b\n",
    "\n",
    "\n",
    "x, y = zip(*(map(float, input().split()) for _ in range(5)))\n",
    "a, b = linear_regression(x, y)\n",
    "print(f'{a+b*80:.3f}')"
   ]
  }
 ],
 "metadata": {
  "kernelspec": {
   "display_name": "Python 3",
   "language": "python",
   "name": "python3"
  },
  "language_info": {
   "codemirror_mode": {
    "name": "ipython",
    "version": 3
   },
   "file_extension": ".py",
   "mimetype": "text/x-python",
   "name": "python",
   "nbconvert_exporter": "python",
   "pygments_lexer": "ipython3",
   "version": "3.7.3"
  }
 },
 "nbformat": 4,
 "nbformat_minor": 2
}
