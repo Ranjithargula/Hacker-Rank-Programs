{
 "cells": [
  {
   "cell_type": "code",
   "execution_count": 1,
   "metadata": {},
   "outputs": [
    {
     "name": "stdout",
     "output_type": "stream",
     "text": [
      "2 3\n",
      "2 4\n",
      "16 32 96\n",
      "3\n"
     ]
    }
   ],
   "source": [
    "#!/bin/python3\n",
    "\n",
    "import math\n",
    "import os\n",
    "import random\n",
    "import re\n",
    "import sys\n",
    "\n",
    "#\n",
    "# Complete the 'getTotalX' function below.\n",
    "#\n",
    "# The function is expected to return an INTEGER.\n",
    "# The function accepts following parameters:\n",
    "#  1. INTEGER_ARRAY a\n",
    "#  2. INTEGER_ARRAY b\n",
    "#\n",
    "def getTotalX(a, b):\n",
    "    a.sort(),b.sort()\n",
    "    L=[i for i in range(a[-1],b[0]+1)]\n",
    "    A=[];B=[]\n",
    "    for i in L:\n",
    "        tem=[]\n",
    "        for j in a:\n",
    "            tem.append(i%j)\n",
    "        if tem==[0 for i in range(len(a))]:\n",
    "            A.append(i)\n",
    "    for i in A:\n",
    "        tem=[]\n",
    "        for j in b:\n",
    "            tem.append(j%i)\n",
    "        if tem==[0 for i in range(len(b))]:\n",
    "            B.append(i)\n",
    "    return len(B)\n",
    "if __name__ == '__main__':\n",
    "#     fptr = open(os.environ['OUTPUT_PATH'], 'w')\n",
    "\n",
    "    first_multiple_input = input().rstrip().split()\n",
    "\n",
    "    n = int(first_multiple_input[0])\n",
    "\n",
    "    m = int(first_multiple_input[1])\n",
    "\n",
    "    arr = list(map(int, input().rstrip().split()))\n",
    "\n",
    "    brr = list(map(int, input().rstrip().split()))\n",
    "\n",
    "    total = getTotalX(arr, brr)\n",
    "    print(total)\n",
    "\n",
    "#     fptr.write(str(total) + '\\n')\n",
    "\n",
    "#     fptr.close()\n"
   ]
  }
 ],
 "metadata": {
  "kernelspec": {
   "display_name": "Python 3",
   "language": "python",
   "name": "python3"
  },
  "language_info": {
   "codemirror_mode": {
    "name": "ipython",
    "version": 3
   },
   "file_extension": ".py",
   "mimetype": "text/x-python",
   "name": "python",
   "nbconvert_exporter": "python",
   "pygments_lexer": "ipython3",
   "version": "3.7.3"
  }
 },
 "nbformat": 4,
 "nbformat_minor": 2
}
