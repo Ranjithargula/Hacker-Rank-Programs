{
 "cells": [
  {
   "cell_type": "code",
   "execution_count": 7,
   "metadata": {},
   "outputs": [
    {
     "name": "stdout",
     "output_type": "stream",
     "text": [
      "Sorting1234\n",
      "ginortS1324\n"
     ]
    }
   ],
   "source": [
    "S=input()\n",
    "L=sorted(list(S))\n",
    "l,u,od,eve=[],[],[],[]\n",
    "for i in L:\n",
    "    if i.islower():\n",
    "        l.append(i)\n",
    "    elif i.isupper():\n",
    "        u.append(i)\n",
    "    elif int(i)%2==0:\n",
    "        eve.append(i)\n",
    "    else:\n",
    "        od.append(i)\n",
    "A=l+u+od+eve\n",
    "st=\"\"\n",
    "for i in A:\n",
    "    st+=i\n",
    "print(st)"
   ]
  },
  {
   "cell_type": "code",
   "execution_count": null,
   "metadata": {},
   "outputs": [],
   "source": []
  }
 ],
 "metadata": {
  "kernelspec": {
   "display_name": "Python 3",
   "language": "python",
   "name": "python3"
  },
  "language_info": {
   "codemirror_mode": {
    "name": "ipython",
    "version": 3
   },
   "file_extension": ".py",
   "mimetype": "text/x-python",
   "name": "python",
   "nbconvert_exporter": "python",
   "pygments_lexer": "ipython3",
   "version": "3.7.3"
  }
 },
 "nbformat": 4,
 "nbformat_minor": 2
}
