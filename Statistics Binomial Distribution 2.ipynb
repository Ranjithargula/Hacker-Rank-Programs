{
 "cells": [
  {
   "cell_type": "code",
   "execution_count": 1,
   "metadata": {},
   "outputs": [
    {
     "name": "stdout",
     "output_type": "stream",
     "text": [
      "12 10\n",
      "0.891\n",
      "0.342\n"
     ]
    }
   ],
   "source": [
    "import math\n",
    "def fact(n):\n",
    "    return math.factorial(n)\n",
    "L=list(map(float,input(\"\").split(\" \")))\n",
    "a=L[0]/100\n",
    "b=L[1]\n",
    "P=(1-a)**b+(fact(b)/fact(b-1))*a*(1-a)**(b-1)+(fact(b)/(fact(b-2)*2))*(a**2)*(1-a)**(b-2)\n",
    "Q=1-((1-a)**b+(fact(b)/fact(b-1))*a*(1-a)**(b-1))\n",
    "print(round(P,3))\n",
    "print(round(Q,3))"
   ]
  }
 ],
 "metadata": {
  "kernelspec": {
   "display_name": "Python 3",
   "language": "python",
   "name": "python3"
  },
  "language_info": {
   "codemirror_mode": {
    "name": "ipython",
    "version": 3
   },
   "file_extension": ".py",
   "mimetype": "text/x-python",
   "name": "python",
   "nbconvert_exporter": "python",
   "pygments_lexer": "ipython3",
   "version": "3.7.3"
  }
 },
 "nbformat": 4,
 "nbformat_minor": 2
}
