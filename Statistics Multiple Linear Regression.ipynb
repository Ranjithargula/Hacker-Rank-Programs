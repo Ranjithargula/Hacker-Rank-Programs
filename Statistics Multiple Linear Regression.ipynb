{
 "cells": [
  {
   "cell_type": "code",
   "execution_count": 1,
   "metadata": {},
   "outputs": [
    {
     "name": "stdout",
     "output_type": "stream",
     "text": [
      "2 7\n",
      "0.18 0.89 109.85\n",
      "1.0 0.26 155.72\n",
      "0.92 0.11 137.66\n",
      "0.07 0.37 76.17\n",
      "0.85 0.16 139.75\n",
      "0.99 0.41 162.6\n",
      "0.87 0.47 151.77\n"
     ]
    }
   ],
   "source": [
    "import numpy as np\n",
    "m,n=list(map(int,input().split()))\n",
    "x=[];y=[]\n",
    "# a,b1,b2=0,0\n",
    "for i in range(n):\n",
    "    r=list(map(float,input().split()))\n",
    "    x.append([1]+r[:-1])\n",
    "    y.append(r[-1])\n",
    "# 0.18 0.89 109.85\n",
    "# 1.0 0.26 155.72\n",
    "# 0.92 0.11 137.66\n",
    "# 0.07 0.37 76.17\n",
    "# 0.85 0.16 139.75\n",
    "# 0.99 0.41 162.6\n",
    "# 0.87 0.47 151.77"
   ]
  },
  {
   "cell_type": "code",
   "execution_count": 2,
   "metadata": {},
   "outputs": [
    {
     "name": "stdout",
     "output_type": "stream",
     "text": [
      "4\n",
      "0.49 0.18\n",
      "105.21455835106931\n",
      "0.57 0.83\n",
      "142.6709513072991\n",
      "0.56 0.64\n",
      "132.93605469124682\n",
      "0.76 0.18\n",
      "129.70175404502444\n"
     ]
    }
   ],
   "source": [
    "Xarr=np.array(x);Yarr=np.array(y)\n",
    "B = np.matmul(np.matmul(np.linalg.inv(np.matmul(np.transpose(Xarr),Xarr)), np.transpose(Xarr)), Yarr)\n",
    "ntests = int(input())\n",
    "for _ in range(ntests):\n",
    "    sample = [1] + list(map(float, input().split()))\n",
    "    samplearr = np.array(sample)\n",
    "    print(np.matmul(samplearr,B))\n",
    "# 0.49 0.18\n",
    "# 0.57 0.83\n",
    "# 0.56 0.64\n",
    "# 0.76 0.18"
   ]
  },
  {
   "cell_type": "code",
   "execution_count": null,
   "metadata": {},
   "outputs": [],
   "source": []
  }
 ],
 "metadata": {
  "kernelspec": {
   "display_name": "Python 3",
   "language": "python",
   "name": "python3"
  },
  "language_info": {
   "codemirror_mode": {
    "name": "ipython",
    "version": 3
   },
   "file_extension": ".py",
   "mimetype": "text/x-python",
   "name": "python",
   "nbconvert_exporter": "python",
   "pygments_lexer": "ipython3",
   "version": "3.7.3"
  }
 },
 "nbformat": 4,
 "nbformat_minor": 2
}
