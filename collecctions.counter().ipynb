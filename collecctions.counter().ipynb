{
 "cells": [
  {
   "cell_type": "code",
   "execution_count": 6,
   "metadata": {},
   "outputs": [
    {
     "name": "stdout",
     "output_type": "stream",
     "text": [
      "10\n",
      "2 3 4 5 6 7 8 6 5 18\n",
      "6\n",
      "6 55\n",
      "6 45\n",
      "6 55\n",
      "4 40\n",
      "18 60\n",
      "10 50\n",
      "200\n"
     ]
    }
   ],
   "source": [
    "from  collections import Counter\n",
    "NS=int(input())\n",
    "size=list(map(int,input().split()))\n",
    "NC=int(input())\n",
    "Dc=[]\n",
    "for i in range(NC):\n",
    "    X=list(map(int,input().split()))\n",
    "    Dc.append(X)\n",
    "c=Counter(size)\n",
    "copy=size.copy()\n",
    "s=0\n",
    "for i in Dc:\n",
    "    if i[0] in copy:\n",
    "        s+=i[1]\n",
    "        copy.remove(i[0])\n",
    "    else:\n",
    "        s+=0\n",
    "print(s)\n",
    "\n"
   ]
  }
 ],
 "metadata": {
  "kernelspec": {
   "display_name": "Python 3",
   "language": "python",
   "name": "python3"
  },
  "language_info": {
   "codemirror_mode": {
    "name": "ipython",
    "version": 3
   },
   "file_extension": ".py",
   "mimetype": "text/x-python",
   "name": "python",
   "nbconvert_exporter": "python",
   "pygments_lexer": "ipython3",
   "version": "3.7.3"
  }
 },
 "nbformat": 4,
 "nbformat_minor": 2
}
