{
 "cells": [
  {
   "cell_type": "code",
   "execution_count": 1,
   "metadata": {},
   "outputs": [],
   "source": [
    "def print_formatted(number):\n",
    "    max=0\n",
    "    for i in range(1,number+1):\n",
    "        b=bin(i)\n",
    "        l=len(b[2:])\n",
    "        if max<l:\n",
    "            max=l\n",
    "    for i in range (1,number+1):\n",
    "        o=str(oct(i))\n",
    "        o=int(o[2:])\n",
    "        h=hex(i)\n",
    "        h=h[2:].upper()\n",
    "        b=bin(i)\n",
    "        b=int(b[2:])\n",
    "        print(repr(i).rjust(max),repr(o).rjust(max),f'{h}'.rjust(max),end=\" \")\n",
    "        print(repr(b).rjust(max))\n"
   ]
  },
  {
   "cell_type": "code",
   "execution_count": 2,
   "metadata": {},
   "outputs": [
    {
     "name": "stdout",
     "output_type": "stream",
     "text": [
      " 1  1  1  1\n",
      " 2  2  2 10\n"
     ]
    }
   ],
   "source": [
    "print_formatted(2)"
   ]
  }
 ],
 "metadata": {
  "kernelspec": {
   "display_name": "Python 3",
   "language": "python",
   "name": "python3"
  },
  "language_info": {
   "codemirror_mode": {
    "name": "ipython",
    "version": 3
   },
   "file_extension": ".py",
   "mimetype": "text/x-python",
   "name": "python",
   "nbconvert_exporter": "python",
   "pygments_lexer": "ipython3",
   "version": "3.7.3"
  }
 },
 "nbformat": 4,
 "nbformat_minor": 2
}
