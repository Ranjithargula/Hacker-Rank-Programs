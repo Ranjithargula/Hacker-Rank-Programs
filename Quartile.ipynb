{
 "cells": [
  {
   "cell_type": "code",
   "execution_count": 1,
   "metadata": {},
   "outputs": [
    {
     "name": "stdout",
     "output_type": "stream",
     "text": [
      "9\n",
      "3 7 8 5 12 14 21 13 18\n"
     ]
    }
   ],
   "source": [
    "n=int(input())\n",
    "L=list(map(int,input(\"\").split(\" \")))\n",
    "L.sort()\n",
    "l1=[]\n",
    "l2=[]\n",
    "l=len(L)\n",
    "def median(n):\n",
    "    l=len(n)\n",
    "    if l%2!=0:\n",
    "        m=l//2\n",
    "        return n[m]\n",
    "    else:\n",
    "        m=l//2\n",
    "        return (n[m]+n[m-1])/2"
   ]
  },
  {
   "cell_type": "code",
   "execution_count": 2,
   "metadata": {},
   "outputs": [],
   "source": [
    "q2=median(L)\n",
    "if l%2!=0:\n",
    "    I=L.index(q2)\n",
    "    for i in range(0,I):\n",
    "        l1.append(L[i])\n",
    "    for i in range(I+1,len(L)):\n",
    "        l2.append(L[i])\n",
    "else:\n",
    "    I=l//2\n",
    "    for i in range(0,I):\n",
    "        l1.append(L[i])\n",
    "    for i in range(I,l):\n",
    "        l2.append(L[i])\n"
   ]
  },
  {
   "cell_type": "code",
   "execution_count": 3,
   "metadata": {},
   "outputs": [
    {
     "name": "stdout",
     "output_type": "stream",
     "text": [
      "6\n",
      "12\n",
      "16\n"
     ]
    }
   ],
   "source": [
    "q1=median(l1)\n",
    "q3=median(l2)\n",
    "if q1==int(q1):\n",
    "    q1=int(q1)\n",
    "if q2==int(q2):\n",
    "    q2=int(q2)\n",
    "if q3==int(q3):\n",
    "    q3=int(q3)\n",
    "print(f'{q1}\\n{q2}\\n{q3}')"
   ]
  }
 ],
 "metadata": {
  "kernelspec": {
   "display_name": "Python 3",
   "language": "python",
   "name": "python3"
  },
  "language_info": {
   "codemirror_mode": {
    "name": "ipython",
    "version": 3
   },
   "file_extension": ".py",
   "mimetype": "text/x-python",
   "name": "python",
   "nbconvert_exporter": "python",
   "pygments_lexer": "ipython3",
   "version": "3.7.3"
  }
 },
 "nbformat": 4,
 "nbformat_minor": 2
}
