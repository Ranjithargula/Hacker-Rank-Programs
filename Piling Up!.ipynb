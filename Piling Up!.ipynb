{
 "cells": [
  {
   "cell_type": "code",
   "execution_count": 6,
   "metadata": {},
   "outputs": [
    {
     "name": "stdout",
     "output_type": "stream",
     "text": [
      "1\n",
      "6\n",
      "4 3 2 1 3 4\n",
      "Yes\n"
     ]
    }
   ],
   "source": [
    "from collections import deque\n",
    "T=int(input())\n",
    "for i in range(T):\n",
    "    n=int(input())\n",
    "    L=list(map(int,input().split()))\n",
    "    q=deque(L)\n",
    "    A=[]\n",
    "    for i in range(len(L)):\n",
    "        if q[-1]>=q[0]:\n",
    "            A.append(q.pop())\n",
    "        else:\n",
    "            A.append(q.popleft())\n",
    "    if A==sorted(A,reverse=True):\n",
    "        print('Yes')\n",
    "    else:\n",
    "        print('No')\n",
    "\n"
   ]
  }
 ],
 "metadata": {
  "kernelspec": {
   "display_name": "Python 3",
   "language": "python",
   "name": "python3"
  },
  "language_info": {
   "codemirror_mode": {
    "name": "ipython",
    "version": 3
   },
   "file_extension": ".py",
   "mimetype": "text/x-python",
   "name": "python",
   "nbconvert_exporter": "python",
   "pygments_lexer": "ipython3",
   "version": "3.7.3"
  }
 },
 "nbformat": 4,
 "nbformat_minor": 2
}
