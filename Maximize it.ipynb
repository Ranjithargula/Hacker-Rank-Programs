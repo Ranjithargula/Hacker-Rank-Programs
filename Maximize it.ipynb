{
 "cells": [
  {
   "cell_type": "code",
   "execution_count": 26,
   "metadata": {},
   "outputs": [
    {
     "name": "stdout",
     "output_type": "stream",
     "text": [
      "3 1000\n",
      "2 5 4\n",
      "3 7 8 9\n",
      "5 5 7 8 9 10\n",
      "206\n"
     ]
    }
   ],
   "source": [
    "import itertools\n",
    "k,m=list(map(int,input().split()))\n",
    "L=[]\n",
    "N=[]\n",
    "for i in range(k):\n",
    "    x=list(map(int,input().split()))\n",
    "    N.append(x[0])\n",
    "    L.append(x[1:])\n",
    "from itertools import product\n",
    "X=list(product(*L))\n",
    "A=[]\n",
    "for i in X:\n",
    "    A.append(list(map(pow,i,itertools.repeat(2))))\n",
    "\n",
    "su=lambda x : sum(x)\n",
    "mo=lambda x : x%m\n",
    "S=list(map(su,A))\n",
    "M=list(map(mo,S))\n",
    "\n",
    "print(max(M))"
   ]
  },
  {
   "cell_type": "code",
   "execution_count": null,
   "metadata": {},
   "outputs": [],
   "source": []
  }
 ],
 "metadata": {
  "kernelspec": {
   "display_name": "Python 3",
   "language": "python",
   "name": "python3"
  },
  "language_info": {
   "codemirror_mode": {
    "name": "ipython",
    "version": 3
   },
   "file_extension": ".py",
   "mimetype": "text/x-python",
   "name": "python",
   "nbconvert_exporter": "python",
   "pygments_lexer": "ipython3",
   "version": "3.7.3"
  }
 },
 "nbformat": 4,
 "nbformat_minor": 2
}
