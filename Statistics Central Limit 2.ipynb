{
 "cells": [
  {
   "cell_type": "code",
   "execution_count": null,
   "metadata": {},
   "outputs": [],
   "source": [
    "import math\n",
    "EM=float(input())\n",
    "n=int(input())\n",
    "mu=float(input())\n",
    "sigma=float(input())\n",
    "m=n*mu\n",
    "s=sigma*math.sqrt(n)\n",
    "cdf=lambda x: 0.5 * (1 + math.erf((x - m) / (s * (2 ** 0.5))))\n",
    "print('{:.4f}'.format(cdf(EM)))"
   ]
  }
 ],
 "metadata": {
  "kernelspec": {
   "display_name": "Python 3",
   "language": "python",
   "name": "python3"
  },
  "language_info": {
   "codemirror_mode": {
    "name": "ipython",
    "version": 3
   },
   "file_extension": ".py",
   "mimetype": "text/x-python",
   "name": "python",
   "nbconvert_exporter": "python",
   "pygments_lexer": "ipython3",
   "version": "3.7.3"
  }
 },
 "nbformat": 4,
 "nbformat_minor": 2
}
