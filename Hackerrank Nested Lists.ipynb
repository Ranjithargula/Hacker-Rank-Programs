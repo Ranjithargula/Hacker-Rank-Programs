{
 "cells": [
  {
   "cell_type": "code",
   "execution_count": 1,
   "metadata": {},
   "outputs": [
    {
     "name": "stdout",
     "output_type": "stream",
     "text": [
      "5\n",
      "Harry\n",
      "37.21\n",
      "Berry\n",
      "37.21\n",
      "Tina\n",
      "37.2\n",
      "Akriti\n",
      "41.0\n",
      "Harsh\n",
      "39.0\n"
     ]
    }
   ],
   "source": [
    "if __name__ == '__main__':\n",
    "    L=[]\n",
    "    for _ in range(int(input())):\n",
    "        name = input()\n",
    "        score = float(input())\n",
    "        L.append([name,score])"
   ]
  },
  {
   "cell_type": "code",
   "execution_count": 2,
   "metadata": {},
   "outputs": [
    {
     "name": "stdout",
     "output_type": "stream",
     "text": [
      "Berry\n",
      "Harry\n"
     ]
    }
   ],
   "source": [
    "L.sort()\n",
    "l=[]\n",
    "for i in L:\n",
    "    l.append(i[1])\n",
    "l1=[]\n",
    "for i in l:\n",
    "    if i==min(l):\n",
    "        pass\n",
    "    else:\n",
    "        l1.append(i)\n",
    "mi=min(l1)\n",
    "for i in L:\n",
    "    if i[1]==mi:\n",
    "        print(i[0])\n"
   ]
  }
 ],
 "metadata": {
  "kernelspec": {
   "display_name": "Python 3",
   "language": "python",
   "name": "python3"
  },
  "language_info": {
   "codemirror_mode": {
    "name": "ipython",
    "version": 3
   },
   "file_extension": ".py",
   "mimetype": "text/x-python",
   "name": "python",
   "nbconvert_exporter": "python",
   "pygments_lexer": "ipython3",
   "version": "3.7.3"
  }
 },
 "nbformat": 4,
 "nbformat_minor": 2
}
