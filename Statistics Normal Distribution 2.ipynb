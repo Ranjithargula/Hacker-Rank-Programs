{
 "cells": [
  {
   "cell_type": "code",
   "execution_count": 6,
   "metadata": {},
   "outputs": [
    {
     "name": "stdout",
     "output_type": "stream",
     "text": [
      "70 10\n",
      "80\n",
      "60\n",
      "15.87\n",
      "84.13\n",
      "15.87\n"
     ]
    }
   ],
   "source": [
    "import math\n",
    "l=list(map(float,input().split(\" \")))\n",
    "m,s=l[0],l[1]\n",
    "x1=float(input())\n",
    "x2=float(input())\n",
    "cdf = lambda x: 0.5 * (1 + math.erf((x - m) / (s * (2 ** 0.5))))\n",
    "\n",
    "# Greater than 80\n",
    "print('{:.2f}'.format((1-cdf(x1))*100))\n",
    "# Greater than 60\n",
    "print('{:.2f}'.format((1-cdf(x2))*100))\n",
    "# Less than 60\n",
    "print('{:.2f}'.format((cdf(x2))*100))"
   ]
  },
  {
   "cell_type": "code",
   "execution_count": null,
   "metadata": {},
   "outputs": [],
   "source": []
  }
 ],
 "metadata": {
  "kernelspec": {
   "display_name": "Python 3",
   "language": "python",
   "name": "python3"
  },
  "language_info": {
   "codemirror_mode": {
    "name": "ipython",
    "version": 3
   },
   "file_extension": ".py",
   "mimetype": "text/x-python",
   "name": "python",
   "nbconvert_exporter": "python",
   "pygments_lexer": "ipython3",
   "version": "3.7.3"
  }
 },
 "nbformat": 4,
 "nbformat_minor": 2
}
