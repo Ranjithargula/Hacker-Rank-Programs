{
 "cells": [
  {
   "cell_type": "code",
   "execution_count": 26,
   "metadata": {},
   "outputs": [
    {
     "name": "stdout",
     "output_type": "stream",
     "text": [
      "AABCAAADA\n",
      "3\n",
      "AB\n",
      "CA\n",
      "AD\n"
     ]
    }
   ],
   "source": [
    "S=input()\n",
    "k=int(input())\n",
    "l=len(S)\n",
    "n=l//k\n",
    "import textwrap\n",
    "from collections import Counter\n",
    "L=textwrap.wrap(S,k)\n",
    "for i in L:\n",
    "    d=[]\n",
    "    c=list(i)\n",
    "    for i in c:\n",
    "        if i not in d:\n",
    "            d.append(i)\n",
    "    st=\"\"\n",
    "    for j in d:\n",
    "        st+=j\n",
    "    print(st)"
   ]
  },
  {
   "cell_type": "code",
   "execution_count": null,
   "metadata": {},
   "outputs": [],
   "source": []
  }
 ],
 "metadata": {
  "kernelspec": {
   "display_name": "Python 3",
   "language": "python",
   "name": "python3"
  },
  "language_info": {
   "codemirror_mode": {
    "name": "ipython",
    "version": 3
   },
   "file_extension": ".py",
   "mimetype": "text/x-python",
   "name": "python",
   "nbconvert_exporter": "python",
   "pygments_lexer": "ipython3",
   "version": "3.7.3"
  }
 },
 "nbformat": 4,
 "nbformat_minor": 2
}
