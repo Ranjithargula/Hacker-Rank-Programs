{
 "cells": [
  {
   "cell_type": "code",
   "execution_count": 1,
   "metadata": {},
   "outputs": [
    {
     "name": "stdout",
     "output_type": "stream",
     "text": [
      "5\n",
      "10 50 30 40 20\n",
      "1 2 3 4 5\n",
      "Weighted mean is 30.7\n"
     ]
    }
   ],
   "source": [
    "N=int(input())\n",
    "X=list(map(int,input('').split(\" \")))\n",
    "W=list(map(int,input('').split(\" \")))\n",
    "sumw=sum(W)\n",
    "sumx=0\n",
    "for i in range(N):\n",
    "    sumx+=(X[i]*W[i])\n",
    "print('Weighted mean is',round(sumx/sumw,1))"
   ]
  }
 ],
 "metadata": {
  "kernelspec": {
   "display_name": "Python 3",
   "language": "python",
   "name": "python3"
  },
  "language_info": {
   "codemirror_mode": {
    "name": "ipython",
    "version": 3
   },
   "file_extension": ".py",
   "mimetype": "text/x-python",
   "name": "python",
   "nbconvert_exporter": "python",
   "pygments_lexer": "ipython3",
   "version": "3.7.3"
  }
 },
 "nbformat": 4,
 "nbformat_minor": 2
}
