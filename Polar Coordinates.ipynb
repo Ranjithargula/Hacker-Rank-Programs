{
 "cells": [
  {
   "cell_type": "code",
   "execution_count": 18,
   "metadata": {},
   "outputs": [
    {
     "name": "stdout",
     "output_type": "stream",
     "text": [
      "1+2j\n",
      "2.236\n",
      "1.107\n"
     ]
    }
   ],
   "source": [
    "z=complex(input())\n",
    "\n",
    "from cmath import phase\n",
    "r=abs(complex(z.real,z.imag))\n",
    "fy=phase(complex(z.real,z.imag))\n",
    "\n",
    "print(\"{:.3f}\".format(r))\n",
    "print(\"{:.3f}\".format(fy))"
   ]
  }
 ],
 "metadata": {
  "kernelspec": {
   "display_name": "Python 3",
   "language": "python",
   "name": "python3"
  },
  "language_info": {
   "codemirror_mode": {
    "name": "ipython",
    "version": 3
   },
   "file_extension": ".py",
   "mimetype": "text/x-python",
   "name": "python",
   "nbconvert_exporter": "python",
   "pygments_lexer": "ipython3",
   "version": "3.7.3"
  }
 },
 "nbformat": 4,
 "nbformat_minor": 2
}
