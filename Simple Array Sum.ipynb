{
 "cells": [
  {
   "cell_type": "code",
   "execution_count": 1,
   "metadata": {},
   "outputs": [
    {
     "name": "stdout",
     "output_type": "stream",
     "text": [
      "6\n",
      "1 2 3 4 10 11\n",
      "31\n"
     ]
    }
   ],
   "source": [
    "#!/bin/python3\n",
    "\n",
    "import os\n",
    "import sys\n",
    "\n",
    "#\n",
    "# Complete the simpleArraySum function below.\n",
    "#\n",
    "def simpleArraySum(ar):\n",
    "    #\n",
    "    # Write your code here.\n",
    "    #\n",
    "    sum=0\n",
    "    for i in ar:\n",
    "        sum+=i\n",
    "    return sum\n",
    "\n",
    "if __name__ == '__main__':\n",
    "    #fptr = open(os.environ['OUTPUT_PATH'], 'w')\n",
    "\n",
    "    ar_count = int(input())\n",
    "\n",
    "    ar = list(map(int, input().rstrip().split()))\n",
    "\n",
    "    result = simpleArraySum(ar)\n",
    "    print(result)\n",
    "\n",
    "#     fptr.write(str(result) + '\\n')\n",
    "\n",
    "#     fptr.close()\n"
   ]
  }
 ],
 "metadata": {
  "kernelspec": {
   "display_name": "Python 3",
   "language": "python",
   "name": "python3"
  },
  "language_info": {
   "codemirror_mode": {
    "name": "ipython",
    "version": 3
   },
   "file_extension": ".py",
   "mimetype": "text/x-python",
   "name": "python",
   "nbconvert_exporter": "python",
   "pygments_lexer": "ipython3",
   "version": "3.7.3"
  }
 },
 "nbformat": 4,
 "nbformat_minor": 2
}
