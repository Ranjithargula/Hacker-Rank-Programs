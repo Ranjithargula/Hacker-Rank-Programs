{
 "cells": [
  {
   "cell_type": "code",
   "execution_count": 2,
   "metadata": {},
   "outputs": [
    {
     "name": "stdout",
     "output_type": "stream",
     "text": [
      "www.hACKERrANK.cOM\n"
     ]
    }
   ],
   "source": [
    "s=\"WWW.HackerRank.Com\"\n",
    "S=\"\"\n",
    "for i in s:\n",
    "    if i.isupper():\n",
    "        S+=(i.lower())\n",
    "    elif i.islower():\n",
    "        S+=(i.upper())\n",
    "    else:\n",
    "        S+=i\n",
    "print(S)"
   ]
  }
 ],
 "metadata": {
  "kernelspec": {
   "display_name": "Python 3",
   "language": "python",
   "name": "python3"
  },
  "language_info": {
   "codemirror_mode": {
    "name": "ipython",
    "version": 3
   },
   "file_extension": ".py",
   "mimetype": "text/x-python",
   "name": "python",
   "nbconvert_exporter": "python",
   "pygments_lexer": "ipython3",
   "version": "3.7.3"
  }
 },
 "nbformat": 4,
 "nbformat_minor": 2
}
