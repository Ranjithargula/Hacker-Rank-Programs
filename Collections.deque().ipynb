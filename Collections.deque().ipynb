{
 "cells": [
  {
   "cell_type": "code",
   "execution_count": 1,
   "metadata": {},
   "outputs": [
    {
     "name": "stdout",
     "output_type": "stream",
     "text": [
      "6\n",
      "append 1\n",
      "append 3\n",
      "append 2\n",
      "appendleft 4\n",
      "pop\n",
      "popleft\n",
      "1 3 "
     ]
    }
   ],
   "source": [
    "from collections import deque\n",
    "q=deque()\n",
    "for i in range(int(input())):\n",
    "    x=input().split()\n",
    "    if x[0]=='append':\n",
    "        q.append(int(x[1]))\n",
    "    elif x[0]==\"appendleft\":\n",
    "        q.appendleft(int(x[1]))\n",
    "    elif x[0]=='pop':\n",
    "        q.pop()\n",
    "    elif x[0]=='popleft':\n",
    "        q.popleft()\n",
    "    else:\n",
    "        continue\n",
    "for i in q:\n",
    "    print(i,end=\" \")"
   ]
  }
 ],
 "metadata": {
  "kernelspec": {
   "display_name": "Python 3",
   "language": "python",
   "name": "python3"
  },
  "language_info": {
   "codemirror_mode": {
    "name": "ipython",
    "version": 3
   },
   "file_extension": ".py",
   "mimetype": "text/x-python",
   "name": "python",
   "nbconvert_exporter": "python",
   "pygments_lexer": "ipython3",
   "version": "3.7.3"
  }
 },
 "nbformat": 4,
 "nbformat_minor": 2
}
