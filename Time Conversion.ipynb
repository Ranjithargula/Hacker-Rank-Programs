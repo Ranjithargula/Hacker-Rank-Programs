{
 "cells": [
  {
   "cell_type": "code",
   "execution_count": 1,
   "metadata": {},
   "outputs": [
    {
     "name": "stdout",
     "output_type": "stream",
     "text": [
      "19:32:21\n"
     ]
    }
   ],
   "source": [
    "#12 hour format to Military Hour Format\n",
    "s='7:32:21pm'\n",
    "s=str(s)\n",
    "s=s.upper()\n",
    "l=s.split(':')\n",
    "h=int(l[0])\n",
    "if 'PM' in s:\n",
    "    h=h+12\n",
    "    s=s.replace(l[0],str(h))\n",
    "    s=s[:-2]\n",
    "    print(s)\n",
    "if 'AM'  in s:\n",
    "    s=s[:-2]\n",
    "    print(s)"
   ]
  }
 ],
 "metadata": {
  "kernelspec": {
   "display_name": "Python 3",
   "language": "python",
   "name": "python3"
  },
  "language_info": {
   "codemirror_mode": {
    "name": "ipython",
    "version": 3
   },
   "file_extension": ".py",
   "mimetype": "text/x-python",
   "name": "python",
   "nbconvert_exporter": "python",
   "pygments_lexer": "ipython3",
   "version": "3.7.3"
  }
 },
 "nbformat": 4,
 "nbformat_minor": 2
}
