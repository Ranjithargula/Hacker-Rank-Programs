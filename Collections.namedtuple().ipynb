{
 "cells": [
  {
   "cell_type": "code",
   "execution_count": 1,
   "metadata": {},
   "outputs": [
    {
     "name": "stdout",
     "output_type": "stream",
     "text": [
      "5\n",
      " ID         MARKS      NAME       CLASS\n",
      " 1          97         Raymond    7\n",
      "2          50         Steven     4\n",
      "3          91         Adrian     9\n",
      "4          72         Stewart    5\n",
      " 5          80         Peter      6 \n",
      "78.00\n"
     ]
    }
   ],
   "source": [
    "from statistics import mean\n",
    "n,index=int(input()),input().split()\n",
    "I=index.index('MARKS')\n",
    "L=[int((input().split())[I]) for i in range(n)]\n",
    "print('{:.2f}'.format(mean(L)))"
   ]
  },
  {
   "cell_type": "code",
   "execution_count": 2,
   "metadata": {},
   "outputs": [
    {
     "name": "stdout",
     "output_type": "stream",
     "text": [
      "5\n",
      "ID         MARKS      NAME       CLASS\n",
      "1          97         Raymond    7\n",
      "2          50         Steven     4\n",
      "3          91         Adrian     9 \n",
      " 4          72         Stewart    5\n",
      "5          80         Peter      6 \n",
      "78.0\n"
     ]
    }
   ],
   "source": [
    "from collections import namedtuple\n",
    "(n, categories) = (int(input()), input().split())\n",
    "Grade = namedtuple('Grade', categories)\n",
    "marks = [int(Grade._make(input().split()).MARKS) for _ in range(n)]\n",
    "print((sum(marks) / len(marks)))"
   ]
  }
 ],
 "metadata": {
  "kernelspec": {
   "display_name": "Python 3",
   "language": "python",
   "name": "python3"
  },
  "language_info": {
   "codemirror_mode": {
    "name": "ipython",
    "version": 3
   },
   "file_extension": ".py",
   "mimetype": "text/x-python",
   "name": "python",
   "nbconvert_exporter": "python",
   "pygments_lexer": "ipython3",
   "version": "3.7.3"
  }
 },
 "nbformat": 4,
 "nbformat_minor": 2
}
