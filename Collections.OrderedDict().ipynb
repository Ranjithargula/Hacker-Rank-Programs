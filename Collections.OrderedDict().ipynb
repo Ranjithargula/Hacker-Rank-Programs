{
 "cells": [
  {
   "cell_type": "code",
   "execution_count": 10,
   "metadata": {},
   "outputs": [
    {
     "name": "stdout",
     "output_type": "stream",
     "text": [
      "9\n",
      "BANANA FRIES 12\n",
      "POTATO CHIPS 30\n",
      "APPLE JUICE 10\n",
      "CANDY 5\n",
      " APPLE JUICE 10\n",
      "CANDY 5\n",
      "CANDY 5\n",
      "CANDY 5\n",
      "POTATO CHIPS 30\n"
     ]
    }
   ],
   "source": [
    "from collections import OrderedDict\n",
    "n=int(input())\n",
    "od=OrderedDict()\n",
    "for i in range(n):\n",
    "    st=\"\"\n",
    "    x=input().split()\n",
    "    for i in x[:-1]:\n",
    "        st+=(i+\" \")\n",
    "    if st in od.keys():\n",
    "        od[st]+=int(x[-1])\n",
    "    else:\n",
    "        od[st]=int(x[-1])"
   ]
  },
  {
   "cell_type": "code",
   "execution_count": 11,
   "metadata": {},
   "outputs": [
    {
     "name": "stdout",
     "output_type": "stream",
     "text": [
      "OrderedDict([('BANANA FRIES ', 12), ('POTATO CHIPS ', 60), ('APPLE JUICE ', 20), ('CANDY ', 20)])\n"
     ]
    }
   ],
   "source": [
    "# BANANA FRIES 12\n",
    "# POTATO CHIPS 30\n",
    "# APPLE JUICE 10\n",
    "# CANDY 5\n",
    "# APPLE JUICE 10\n",
    "# CANDY 5\n",
    "# CANDY 5\n",
    "# CANDY 5\n",
    "# POTATO CHIPS 30\n",
    "print(od)"
   ]
  },
  {
   "cell_type": "code",
   "execution_count": 15,
   "metadata": {},
   "outputs": [
    {
     "name": "stdout",
     "output_type": "stream",
     "text": [
      "BANANA FRIES 12\n",
      "POTATO CHIPS 60\n",
      "APPLE JUICE 20\n",
      "CANDY 20\n"
     ]
    }
   ],
   "source": [
    "for i in od.keys():\n",
    "    print(\"{}{}\".format(i,od[i]))"
   ]
  },
  {
   "cell_type": "code",
   "execution_count": null,
   "metadata": {},
   "outputs": [],
   "source": []
  }
 ],
 "metadata": {
  "kernelspec": {
   "display_name": "Python 3",
   "language": "python",
   "name": "python3"
  },
  "language_info": {
   "codemirror_mode": {
    "name": "ipython",
    "version": 3
   },
   "file_extension": ".py",
   "mimetype": "text/x-python",
   "name": "python",
   "nbconvert_exporter": "python",
   "pygments_lexer": "ipython3",
   "version": "3.7.3"
  }
 },
 "nbformat": 4,
 "nbformat_minor": 2
}
