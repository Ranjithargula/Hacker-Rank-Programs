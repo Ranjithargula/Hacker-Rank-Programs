{
 "cells": [
  {
   "cell_type": "code",
   "execution_count": 1,
   "metadata": {},
   "outputs": [
    {
     "name": "stdout",
     "output_type": "stream",
     "text": [
      "10 14\n"
     ]
    }
   ],
   "source": [
    "#Minimum and maximum possible sum of any 4 elements in a array\n",
    "arr=[1,2,3,4,5]\n",
    "total=sum(arr)\n",
    "l=[]\n",
    "j=0\n",
    "Min=total\n",
    "Max=0\n",
    "for i in arr:\n",
    "    j=total-i\n",
    "    l.append(j)\n",
    "for i in l:\n",
    "    if Min>i:\n",
    "        Min=i\n",
    "    if Max<i:\n",
    "        Max=i\n",
    "print(f'{Min} {Max}')\n"
   ]
  }
 ],
 "metadata": {
  "kernelspec": {
   "display_name": "Python 3",
   "language": "python",
   "name": "python3"
  },
  "language_info": {
   "codemirror_mode": {
    "name": "ipython",
    "version": 3
   },
   "file_extension": ".py",
   "mimetype": "text/x-python",
   "name": "python",
   "nbconvert_exporter": "python",
   "pygments_lexer": "ipython3",
   "version": "3.7.3"
  }
 },
 "nbformat": 4,
 "nbformat_minor": 2
}
